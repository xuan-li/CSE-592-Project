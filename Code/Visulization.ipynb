{
 "cells": [
  {
   "cell_type": "code",
   "execution_count": 2,
   "metadata": {},
   "outputs": [],
   "source": [
    "from generator import gaussian_noise_generator\n",
    "from generator import sphere_point_generator\n",
    "from generator import gaussian_point_generator\n",
    "from functions import noisy_function\n",
    "from functions import sphere_function\n",
    "from functions import quadratic\n",
    "import algorithms as alg\n",
    "from functions import compute_L\n",
    "import numpy as np\n",
    "from utilities import plot_real_values\n",
    "import matplotlib.pyplot as plt"
   ]
  },
  {
   "cell_type": "code",
   "execution_count": 5,
   "metadata": {},
   "outputs": [],
   "source": [
    "sigma = 1e-2\n",
    "noise_G = gaussian_noise_generator(sigma)\n",
    "#func = lambda x, order=0: sphere_function(x, 2, order)\n",
    "H = np.matrix('10 0; 0 40');\n",
    "# the vector of linear coefficient of the quadratic function\n",
    "b = np.matrix('0; 0')\n",
    "func = lambda x, order=0: quadratic( H, b, x, order )\n",
    "noisy_func = lambda x, n: noisy_function(func, x, noise_G, n, noise_mode=\"multiply\")\n",
    "initial_x = np.matrix('100;100')\n",
    "N = 10000\n",
    "m = 100\n",
    "t = 1e-4\n",
    "n = initial_x.shape[0]\n",
    "L = compute_L(func, n)\n",
    "direction_G1 = sphere_point_generator(n)\n",
    "direction_G2 = gaussian_point_generator(n)"
   ]
  },
  {
   "cell_type": "code",
   "execution_count": 6,
   "metadata": {},
   "outputs": [
    {
     "name": "stderr",
     "output_type": "stream",
     "text": [
      "/Users/sunxiaofei/workspace/CSE-592-Project/Code/algorithms.py:22: RuntimeWarning: invalid value encountered in subtract\n",
      "  gradient = ((f_te - f)/t).mean() * direction\n"
     ]
    }
   ],
   "source": [
    "x0, xs0 = alg.rdfds(noisy_func, initial_x, L, m, t, N, feedback = 2, direction_generator = direction_G1)\n",
    "x1, xs1 = alg.rsgf(noisy_func, initial_x, L, m, t, N, feedback = 2, direction_generator = direction_G1, two_phase = True)\n",
    "x2, xs2 = alg.rg(noisy_func, initial_x, L, m, t, N, feedback = 1, direction_generator = direction_G2)"
   ]
  },
  {
   "cell_type": "code",
   "execution_count": 22,
   "metadata": {},
   "outputs": [],
   "source": [
    "def get_real_values(real_func, xs):\n",
    "    values = np.array(list(map(lambda x: real_func(x)[0,0], xs)))\n",
    "    return values"
   ]
  },
  {
   "cell_type": "code",
   "execution_count": 23,
   "metadata": {},
   "outputs": [],
   "source": [
    "ys0=get_real_values(func, xs0)\n",
    "ys1=get_real_values(func, xs1)\n",
    "ys2=get_real_values(func, xs2)"
   ]
  },
  {
   "cell_type": "code",
   "execution_count": 24,
   "metadata": {},
   "outputs": [
    {
     "data": {
      "text/plain": [
       "array([  2.50000000e+05,   2.46631688e+05,   2.46426578e+05, ...,\n",
       "         2.51523582e-09,   2.17174090e-09,   1.01419503e-08])"
      ]
     },
     "execution_count": 24,
     "metadata": {},
     "output_type": "execute_result"
    }
   ],
   "source": [
    "len(ys)"
   ]
  },
  {
   "cell_type": "code",
   "execution_count": 11,
   "metadata": {},
   "outputs": [
    {
     "data": {
      "image/png": "[encoded data removed]",
      "text/plain": [
       "<matplotlib.figure.Figure at 0x61cf86320>"
      ]
     },
     "metadata": {},
     "output_type": "display_data"
    }
   ],
   "source": [
    "fig = plt.figure()\n",
    "plt.legend()\n",
    "plt.show()"
   ]
  }
 ],
 "metadata": {
  "kernelspec": {
   "display_name": "Python 3",
   "language": "python",
   "name": "python3"
  },
  "language_info": {
   "codemirror_mode": {
    "name": "ipython",
    "version": 3
   },
   "file_extension": ".py",
   "mimetype": "text/x-python",
   "name": "python",
   "nbconvert_exporter": "python",
   "pygments_lexer": "ipython3",
   "version": "3.6.2"
  }
 },
 "nbformat": 4,
 "nbformat_minor": 2
}
